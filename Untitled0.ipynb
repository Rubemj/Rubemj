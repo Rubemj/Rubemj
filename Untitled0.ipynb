{
  "nbformat": 4,
  "nbformat_minor": 0,
  "metadata": {
    "colab": {
      "provenance": [],
      "authorship_tag": "ABX9TyO/Ijy+LNq/S0G8rOHv12vw",
      "include_colab_link": true
    },
    "kernelspec": {
      "name": "python3",
      "display_name": "Python 3"
    },
    "language_info": {
      "name": "python"
    }
  },
  "cells": [
    {
      "cell_type": "markdown",
      "metadata": {
        "id": "view-in-github",
        "colab_type": "text"
      },
      "source": [
        "<a href=\"https://colab.research.google.com/github/Rubemj/Rubemj/blob/main/Untitled0.ipynb\" target=\"_parent\"><img src=\"https://colab.research.google.com/assets/colab-badge.svg\" alt=\"Open In Colab\"/></a>"
      ]
    },
    {
      "cell_type": "code",
      "execution_count": 6,
      "metadata": {
        "colab": {
          "base_uri": "https://localhost:8080/",
          "height": 122
        },
        "id": "-Vy25QYVuHTf",
        "outputId": "9d129285-b2da-4d01-d07e-09ee1e7a9df5"
      },
      "outputs": [
        {
          "output_type": "stream",
          "name": "stdout",
          "text": [
            "Digite seu nome: Rubem\n",
            "Digite seu peso80\n",
            "Digite sua altura1.85\n",
            "Rubem você tem IMC: 23.37472607742878 e está Acima do peso\n",
            "Rubem você tem IMC: 23.37472607742878 \n"
          ]
        },
        {
          "output_type": "execute_result",
          "data": {
            "text/plain": [
              "'\\nnumero = 10\\nif numero > 17:\\n  print(\"Você é maior de idade\")\\nelse:\\n  print(\"Você é menor de idade\")  \\n\\n'"
            ],
            "application/vnd.google.colaboratory.intrinsic+json": {
              "type": "string"
            }
          },
          "metadata": {},
          "execution_count": 6
        }
      ],
      "source": [
        "'''\n",
        "n1 = 10\n",
        "n2 = 20\n",
        "n3 = 30\n",
        "print(n1 + n2 + n3)\n",
        "\n",
        "nome = \"Rubem \"\n",
        "sobrenome = \"Junio\"\n",
        "print(nome + sobrenome)\n",
        "print(str(n3) + nome)\n",
        "seu_nome = input(\"Digite seu nome:\")\n",
        "print(\"Bem vindo \" + seu_nome)\n",
        "print(f\"Bem vindo {seu_nome}\")\n",
        "'''\n",
        "\n",
        "#exercício1\n",
        "'''\n",
        "seu_nome = input(\"Digite seu nome: \")\n",
        "data_de_nascimento = int(input(\"Digite o ano de nascimento:\"))\n",
        "idade = (2024 - data_de_nascimento)\n",
        "print(f\"Bem vindo  {seu_nome}   você tem  {idade} anos de idade\")\n",
        "'''\n",
        "\n",
        "#exercício2\n",
        "'''\n",
        "altura = 1.83\n",
        "print(int(altura))\n",
        "\n",
        "altura = 2\n",
        "print(float(altura))\n",
        "'''\n",
        "\n",
        "seu_nome = input(\"Digite seu nome: \")\n",
        "peso = float(input(\"Digite seu peso\"))\n",
        "altura = float(input(\"Digite sua altura\"))\n",
        "imc =  (peso / (altura*altura))\n",
        "if imc < 16.9:\n",
        "  print(f\"{seu_nome} você tem IMC: {imc} e está Muito abaixo do peso\")\n",
        "elif 17 > imc < 18.4:\n",
        "  print(f\"{seu_nome} você tem IMC: {imc} e está Abaixo do peso\")\n",
        "elif 18.5 > imc < 24.9 :\n",
        "  print(f\"{seu_nome} você tem IMC: {imc} e está com Peso normal\")\n",
        "elif 25 > imc < 29.9 :\n",
        "  print(f\"{seu_nome} você tem IMC: {imc} e está Acima do peso\")\n",
        "elif 30 > imc < 34.9 :\n",
        "  print (f\"{seu_nome} você tem IMC: {imc} e está com Obesidade grau 1\")\n",
        "elif 35 > imc < 40 :\n",
        "  print (f\"{seu_nome} você tem IMC: {imc} e está com Obesidade grau 2\")\n",
        "else:\n",
        "  print(f\"{seu_nome} você tem IMC: {imc} e está com Obesidade grau 3\")\n",
        "\n",
        "print(f\"{seu_nome} você tem IMC: {imc} \")\n",
        "\n",
        "'''\n",
        "numero = 10\n",
        "if numero > 17:\n",
        "  print(\"Você é maior de idade\")\n",
        "else:\n",
        "  print(\"Você é menor de idade\")\n",
        "\n",
        "'''"
      ]
    }
  ]
}